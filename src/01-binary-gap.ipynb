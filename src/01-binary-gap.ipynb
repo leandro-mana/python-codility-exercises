{
 "cells": [
  {
   "cell_type": "markdown",
   "id": "8f14448d-b2ac-47cc-970e-478d1e1b29e9",
   "metadata": {},
   "source": [
    "---\n",
    "## Binary Gap\n",
    "\n",
    "A **binary gap** within a positive integer `N` is any maximal sequence of consecutive zeros that is surrounded by ones at both ends in the binary representation of N.\n",
    "\n",
    "For example, number `9` has binary representation `1001` and contains a binary gap of length `2`. The \n",
    "number `529` has binary representation `1000010001` and contains two binary gaps: one of length `4` and one of length `3`. The number `20` has binary representation `10100` and contains one binary gap of length `1`. The number `15` has binary representation `1111` and has no binary gaps. The number `32` has binary representation `100000` and has no binary gaps.\n",
    "\n",
    "Write a function:\n",
    "\n",
    "`def solution(N)`\n",
    "\n",
    "that, given a positive integer N, returns the length of its longest binary gap. The function should return 0 if N doesn't contain a binary gap.\n",
    "\n",
    "For example, given `N = 1041` the function should return `5`, because N has binary representation `10000010001` and so its longest binary gap is of length `5`. Given `N = 32` the function should return `0`, because N has binary representation `100000` and thus no binary gaps.\n",
    "\n",
    "Write an efficient algorithm for the following assumptions:\n",
    "\n",
    "N is an integer within the range `[1..2, 147, 483, 647]`\n",
    "\n",
    "---"
   ]
  },
  {
   "cell_type": "code",
   "execution_count": 34,
   "id": "f88c01a6-5e7c-4787-bd9f-f161bcf26fc7",
   "metadata": {},
   "outputs": [],
   "source": [
    "# Solution\n",
    "def solution(N):\n",
    "    N = bin(N)[2:]\n",
    "    num = 0\n",
    "    max_num = 0\n",
    "    for k in N:\n",
    "        if int(k) == 0:\n",
    "            num += 1\n",
    "\n",
    "        elif int(k) == 1:\n",
    "            max_num = max(max_num, num)\n",
    "            num = 0\n",
    "\n",
    "    return max_num\n"
   ]
  },
  {
   "cell_type": "code",
   "execution_count": 35,
   "id": "f249f43c-4961-4a3d-8d26-fa2dacf9f776",
   "metadata": {},
   "outputs": [
    {
     "name": "stdout",
     "output_type": "stream",
     "text": [
      "N=9 -> Binary:1001 -> Binary Gap:2\n",
      "N=529 -> Binary:1000010001 -> Binary Gap:4\n",
      "N=20 -> Binary:10100 -> Binary Gap:1\n",
      "N=15 -> Binary:1111 -> Binary Gap:0\n",
      "N=32 -> Binary:100000 -> Binary Gap:0\n",
      "N=147 -> Binary:10010011 -> Binary Gap:2\n",
      "N=483 -> Binary:111100011 -> Binary Gap:3\n",
      "N=647 -> Binary:1010000111 -> Binary Gap:4\n"
     ]
    }
   ],
   "source": [
    "# Tests\n",
    "# Print Test Solution\n",
    "def print_solution(N):\n",
    "    binary_n = bin(N)[2:]\n",
    "    print(f'N={N} -> Binary:{binary_n} -> Binary Gap:{solution(N)}')\n",
    "\n",
    "tests = [9, 529, 20, 15, 32, 147, 483, 647]\n",
    "for test in tests:\n",
    "    print_solution(test)"
   ]
  }
 ],
 "metadata": {
  "kernelspec": {
   "display_name": "Python 3 (ipykernel)",
   "language": "python",
   "name": "python3"
  },
  "language_info": {
   "codemirror_mode": {
    "name": "ipython",
    "version": 3
   },
   "file_extension": ".py",
   "mimetype": "text/x-python",
   "name": "python",
   "nbconvert_exporter": "python",
   "pygments_lexer": "ipython3",
   "version": "3.9.13"
  }
 },
 "nbformat": 4,
 "nbformat_minor": 5
}
