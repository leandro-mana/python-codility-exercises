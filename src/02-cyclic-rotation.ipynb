{
 "cells": [
  {
   "cell_type": "markdown",
   "id": "bb33ae98-eda9-4177-9374-fd65d8bd07d6",
   "metadata": {},
   "source": [
    "---\n",
    "## Cyclic Rotation\n",
    "\n",
    "An array `A` consisting of `N` integers is given. Rotation of the array means that each element is shifted right by one index, and the last element of the array is moved to the first place.\n",
    "\n",
    "The rotation of array `A = [3, 8, 9, 7, 6]` is `[6, 3, 8, 9, 7]` (elements are shifted right by one index and 6 is moved to the first place).\n",
    "\n",
    "The goal is to rotate array `A` `K` times; that is, each element of `A` will be shifted to the right `K` times.\n",
    "\n",
    "Write a function:\n",
    "\n",
    "`def solution(A: list, K: int) -> list:`\n",
    "\n",
    "that, given an array `A` consisting of `N` integers and an integer `K`, returns the array `A` rotated `K` times.\n",
    "\n",
    "For example, given\n",
    "\n",
    "    A = [3, 8, 9, 7, 6]\n",
    "    K = 3\n",
    "the function should return `[9, 7, 6, 3, 8]`. Three rotations were made:\n",
    "\n",
    "    [3, 8, 9, 7, 6] -> [6, 3, 8, 9, 7]\n",
    "    [6, 3, 8, 9, 7] -> [7, 6, 3, 8, 9]\n",
    "    [7, 6, 3, 8, 9] -> [9, 7, 6, 3, 8]\n",
    "For another example, given\n",
    "\n",
    "    A = [0, 0, 0]\n",
    "    K = 1\n",
    "the function should return `[0, 0, 0]`\n",
    "\n",
    "Given\n",
    "\n",
    "    A = [1, 2, 3, 4]\n",
    "    K = 4\n",
    "the function should return `[1, 2, 3, 4]`\n",
    "\n",
    "Assume that:\n",
    "\n",
    "N and K are integers within the range [0..100];\n",
    "each element of array A is an integer within the range [−1,000..1,000]."
   ]
  },
  {
   "cell_type": "code",
   "execution_count": 1,
   "id": "fda4feed-b01c-46bf-ac8c-eeabaaa1c6e1",
   "metadata": {},
   "outputs": [],
   "source": [
    "def solution(A: list, K: int) -> list:\n",
    "    n = len(A)\n",
    "    result = [None] * n\n",
    "    for i in range(0, n):\n",
    "        result[(i + K) % n] = A[i]\n",
    "    \n",
    "    return result\n"
   ]
  },
  {
   "cell_type": "code",
   "execution_count": 17,
   "id": "e600f154-b4cc-427e-a6d8-45b983487f41",
   "metadata": {},
   "outputs": [
    {
     "name": "stdout",
     "output_type": "stream",
     "text": [
      "A=[3, 8, 9, 7, 6] K=3 result=[9, 7, 6, 3, 8] CORRECT=True\n",
      "\n",
      "A=[1, 2, 3, 4] K=4 result=[1, 2, 3, 4] CORRECT=True\n",
      "\n",
      "A=[0, 0, 0] K=1 result=[0, 0, 0] CORRECT=True\n",
      "\n",
      "A=[-5, 16, 4, 81, 37] K=8 result=[4, 81, 37, -5, 16] CORRECT=True\n",
      "\n"
     ]
    }
   ],
   "source": [
    "# Print Test Solution\n",
    "def print_test(tests: list) -> None:\n",
    "    for test in tests:\n",
    "        A = test['A']\n",
    "        K = test['K']\n",
    "        result = solution(A, K)\n",
    "        print(f\"A={A} K={K} result={result} CORRECT={test['result'] == result}\\n\")\n",
    "\n",
    "tests = [\n",
    "    {\n",
    "        'A': [3, 8, 9, 7, 6],\n",
    "        'K': 3,\n",
    "        'result': [9, 7, 6, 3, 8]\n",
    "    },\n",
    "    {\n",
    "        'A': [1, 2, 3, 4],\n",
    "        'K': 4,\n",
    "        'result': [1, 2, 3, 4]\n",
    "    },\n",
    "    {\n",
    "        'A': [0, 0, 0],\n",
    "        'K': 1,\n",
    "        'result': [0, 0, 0]\n",
    "    },\n",
    "    {\n",
    "        'A': [-5, 16, 4, 81, 37],\n",
    "        'K': 8,\n",
    "        'result': [4, 81, 37, -5, 16]\n",
    "    }\n",
    "]\n",
    "\n",
    "# Run Tests\n",
    "print_test(tests)"
   ]
  }
 ],
 "metadata": {
  "kernelspec": {
   "display_name": "Python 3 (ipykernel)",
   "language": "python",
   "name": "python3"
  },
  "language_info": {
   "codemirror_mode": {
    "name": "ipython",
    "version": 3
   },
   "file_extension": ".py",
   "mimetype": "text/x-python",
   "name": "python",
   "nbconvert_exporter": "python",
   "pygments_lexer": "ipython3",
   "version": "3.9.13"
  }
 },
 "nbformat": 4,
 "nbformat_minor": 5
}
